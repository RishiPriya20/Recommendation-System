{
 "cells": [
  {
   "cell_type": "markdown",
   "id": "f689663f-d588-4a6b-899c-b7cd80b2ed5b",
   "metadata": {},
   "source": [
    "                                                      **Recommendation System**"
   ]
  },
  {
   "cell_type": "markdown",
   "id": "1aa9ba3a-1e22-4128-828f-f17a46c1139a",
   "metadata": {},
   "source": [
    "Unique ID of each anime.\n",
    "Anime title.\n",
    "Anime broadcast type, such as TV, OVA, etc.\n",
    "anime genre.\n",
    "The number of episodes of each anime.\n",
    "The average rating for each anime compared to the number of users who gave ratings.\n",
    "\n",
    "\n",
    "Number of community members for each anime. \n"
   ]
  },
  {
   "cell_type": "markdown",
   "id": "b50756dd-00cc-43e2-b262-6245fbc7a8a1",
   "metadata": {},
   "source": [
    "Objective:\n",
    "The objective of this assignment is to implement a recommendation system using cosine similarity on an anime dataset. "
   ]
  },
  {
   "cell_type": "markdown",
   "id": "482bdae2-91d8-48cb-955a-6954b03af3a1",
   "metadata": {},
   "source": [
    "**Data Preprocessing**"
   ]
  },
  {
   "cell_type": "code",
   "execution_count": 1,
   "id": "1c6d1422-f663-4f9a-939d-78c51b1b385a",
   "metadata": {},
   "outputs": [
    {
     "name": "stdout",
     "output_type": "stream",
     "text": [
      "       anime_id                                               name  \\\n",
      "0         32281                                     Kimi no Na wa.   \n",
      "1          5114                   Fullmetal Alchemist: Brotherhood   \n",
      "2         28977                                           Gintama°   \n",
      "3          9253                                        Steins;Gate   \n",
      "4          9969                                      Gintama&#039;   \n",
      "...         ...                                                ...   \n",
      "12289      9316       Toushindai My Lover: Minami tai Mecha-Minami   \n",
      "12290      5543                                        Under World   \n",
      "12291      5621                     Violence Gekiga David no Hoshi   \n",
      "12292      6133  Violence Gekiga Shin David no Hoshi: Inma Dens...   \n",
      "12293     26081                   Yasuji no Pornorama: Yacchimae!!   \n",
      "\n",
      "                                                   genre   type episodes  \\\n",
      "0                   Drama, Romance, School, Supernatural  Movie        1   \n",
      "1      Action, Adventure, Drama, Fantasy, Magic, Mili...     TV       64   \n",
      "2      Action, Comedy, Historical, Parody, Samurai, S...     TV       51   \n",
      "3                                       Sci-Fi, Thriller     TV       24   \n",
      "4      Action, Comedy, Historical, Parody, Samurai, S...     TV       51   \n",
      "...                                                  ...    ...      ...   \n",
      "12289                                             Hentai    OVA        1   \n",
      "12290                                             Hentai    OVA        1   \n",
      "12291                                             Hentai    OVA        4   \n",
      "12292                                             Hentai    OVA        1   \n",
      "12293                                             Hentai  Movie        1   \n",
      "\n",
      "       rating  members  \n",
      "0        9.37   200630  \n",
      "1        9.26   793665  \n",
      "2        9.25   114262  \n",
      "3        9.17   673572  \n",
      "4        9.16   151266  \n",
      "...       ...      ...  \n",
      "12289    4.15      211  \n",
      "12290    4.28      183  \n",
      "12291    4.88      219  \n",
      "12292    4.98      175  \n",
      "12293    5.46      142  \n",
      "\n",
      "[12294 rows x 7 columns]\n"
     ]
    }
   ],
   "source": [
    "import pandas as pd\n",
    "df = pd.read_csv('C:\\\\Users\\\\rishi\\\\OneDrive\\\\Desktop\\\\DS Assigments\\\\anime.csv')\n",
    "print(df)"
   ]
  },
  {
   "cell_type": "code",
   "execution_count": 2,
   "id": "c830e9ff-a86e-4065-aede-144b9521e948",
   "metadata": {},
   "outputs": [
    {
     "name": "stdout",
     "output_type": "stream",
     "text": [
      "   anime_id                              name  \\\n",
      "0     32281                    Kimi no Na wa.   \n",
      "1      5114  Fullmetal Alchemist: Brotherhood   \n",
      "2     28977                          Gintama°   \n",
      "3      9253                       Steins;Gate   \n",
      "4      9969                     Gintama&#039;   \n",
      "\n",
      "                                               genre   type episodes  rating  \\\n",
      "0               Drama, Romance, School, Supernatural  Movie        1    9.37   \n",
      "1  Action, Adventure, Drama, Fantasy, Magic, Mili...     TV       64    9.26   \n",
      "2  Action, Comedy, Historical, Parody, Samurai, S...     TV       51    9.25   \n",
      "3                                   Sci-Fi, Thriller     TV       24    9.17   \n",
      "4  Action, Comedy, Historical, Parody, Samurai, S...     TV       51    9.16   \n",
      "\n",
      "   members  \n",
      "0   200630  \n",
      "1   793665  \n",
      "2   114262  \n",
      "3   673572  \n",
      "4   151266  \n"
     ]
    }
   ],
   "source": [
    "print(df.head())"
   ]
  },
  {
   "cell_type": "code",
   "execution_count": 3,
   "id": "1291b84c-2742-4b4e-91d3-d0ea99915f6b",
   "metadata": {},
   "outputs": [
    {
     "name": "stdout",
     "output_type": "stream",
     "text": [
      "anime_id      0\n",
      "name          0\n",
      "genre        62\n",
      "type         25\n",
      "episodes      0\n",
      "rating      230\n",
      "members       0\n",
      "dtype: int64\n"
     ]
    }
   ],
   "source": [
    "print(df.isnull().sum())"
   ]
  },
  {
   "cell_type": "code",
   "execution_count": 5,
   "id": "432ce62b-7a79-46c7-958e-050a7c499862",
   "metadata": {},
   "outputs": [],
   "source": [
    "df['rating'].fillna(df['rating'].mean(), inplace=True)"
   ]
  },
  {
   "cell_type": "markdown",
   "id": "3fe87f6a-57bc-458b-9757-642d8266a8bc",
   "metadata": {},
   "source": [
    "**Feature Extraction**"
   ]
  },
  {
   "cell_type": "code",
   "execution_count": 15,
   "id": "ba363317-5065-4357-9476-6f1a1c46b6f4",
   "metadata": {},
   "outputs": [
    {
     "name": "stdout",
     "output_type": "stream",
     "text": [
      "0            [Drama,  Romance,  School,  Supernatural]\n",
      "1    [Action,  Adventure,  Drama,  Fantasy,  Magic,...\n",
      "2    [Action,  Comedy,  Historical,  Parody,  Samur...\n",
      "3                                  [Sci-Fi,  Thriller]\n",
      "4    [Action,  Comedy,  Historical,  Parody,  Samur...\n",
      "Name: genre, dtype: object\n",
      "    Adventure   Cars   Comedy   Dementia   Demons   Drama   Ecchi   Fantasy  \\\n",
      "0           0      0        0          0        0       0       0         0   \n",
      "1           1      0        0          0        0       1       0         1   \n",
      "2           0      0        1          0        0       0       0         0   \n",
      "3           0      0        0          0        0       0       0         0   \n",
      "4           0      0        1          0        0       0       0         0   \n",
      "\n",
      "    Game   Harem  ...  Shounen  Slice of Life  Space  Sports  Super Power  \\\n",
      "0      0       0  ...        0              0      0       0            0   \n",
      "1      0       0  ...        0              0      0       0            0   \n",
      "2      0       0  ...        0              0      0       0            0   \n",
      "3      0       0  ...        0              0      0       0            0   \n",
      "4      0       0  ...        0              0      0       0            0   \n",
      "\n",
      "   Supernatural  Thriller  Vampire  Yaoi  rating_normalized  \n",
      "0             0         0        0     0           0.924370  \n",
      "1             0         0        0     0           0.911164  \n",
      "2             0         0        0     0           0.909964  \n",
      "3             0         0        0     0           0.900360  \n",
      "4             0         0        0     0           0.899160  \n",
      "\n",
      "[5 rows x 83 columns]\n"
     ]
    }
   ],
   "source": [
    "from sklearn.preprocessing import MultiLabelBinarizer, MinMaxScaler\n",
    "import numpy as np\n",
    "import pandas as pd\n",
    "#Ensure 'genre' column contains list of genres or empty lists\n",
    "def clean_genres(x):\n",
    "    if isinstance(x, str):\n",
    "        return x.split(',')\n",
    "    elif pd.isna(x):\n",
    "        return []\n",
    "    else:\n",
    "        return []\n",
    "df['genre'] = df['genre'].apply(clean_genres)\n",
    "\n",
    "print(df['genre'].head()) \n",
    "\n",
    "#Use one-hot encoding for genres\n",
    "mlb = MultiLabelBinarizer()\n",
    "genre_encoded = pd.DataFrame(mlb.fit_transform(df['genre']), columns=mlb.classes_, index=df.index)\n",
    "\n",
    "#Normalizer numerical features like rating\n",
    "scaler = MinMaxScaler()\n",
    "df['rating_normalized'] = scaler.fit_transform(df[['rating']])\n",
    "\n",
    "#Combine the encoded genres and the normalized rating into a feature matrix\n",
    "features = pd.concat([genre_encoded, df['rating_normalized']], axis=1)\n",
    "print(features.head())\n",
    "                 \n"
   ]
  },
  {
   "cell_type": "markdown",
   "id": "c6a931a4-30cb-4bce-b26e-9ce908803438",
   "metadata": {},
   "source": [
    "**Observation**"
   ]
  },
  {
   "cell_type": "markdown",
   "id": "911f7fa0-bae7-4b55-9094-9adc8f947653",
   "metadata": {},
   "source": [
    "The genre column was processed to ensure that each entry is either a list of genres or an empty list. This was necessary to handle missing values and to prepare the data for one-hot encoding\n",
    "\n",
    "The MultiLabelBinarizer performed one-hot encoding on the 'genre' column. This transformed the genres into a binary format where each genre became a separate column and the presence of a genre in an anime was marked as '1'.\n",
    "\n",
    "The rating column was normalized using 'MinMaxScaler' which scaled the rating to a range between 0 and 1. This step was important to ensure that the ratings were on a similar scale as the encoded genre features to make data suitable for similar calculations.\n",
    "\n",
    "The encoded genres and the normalized ratings were combined into a single feature matrix.\n",
    "This matrix will be used in further steps to calculate similarities between different anime forming the basis of the recommendation system"
   ]
  },
  {
   "cell_type": "code",
   "execution_count": 17,
   "id": "834bb5ab-094b-4eac-b797-f34a923be189",
   "metadata": {},
   "outputs": [
    {
     "name": "stdout",
     "output_type": "stream",
     "text": [
      "Index(['anime_id', 'name', 'genre', 'type', 'episodes', 'rating', 'members',\n",
      "       'genres', 'rating_normalized'],\n",
      "      dtype='object')\n"
     ]
    }
   ],
   "source": [
    "print(df.columns)"
   ]
  },
  {
   "cell_type": "code",
   "execution_count": 18,
   "id": "96f77092-d00c-46f3-b0af-be98f60e7489",
   "metadata": {},
   "outputs": [
    {
     "name": "stdout",
     "output_type": "stream",
     "text": [
      "   anime_id                              name  \\\n",
      "0     32281                    Kimi no Na wa.   \n",
      "1      5114  Fullmetal Alchemist: Brotherhood   \n",
      "2     28977                          Gintama°   \n",
      "3      9253                       Steins;Gate   \n",
      "4      9969                     Gintama&#039;   \n",
      "\n",
      "                                               genre   type episodes  rating  \\\n",
      "0          [Drama,  Romance,  School,  Supernatural]  Movie        1    9.37   \n",
      "1  [Action,  Adventure,  Drama,  Fantasy,  Magic,...     TV       64    9.26   \n",
      "2  [Action,  Comedy,  Historical,  Parody,  Samur...     TV       51    9.25   \n",
      "3                                [Sci-Fi,  Thriller]     TV       24    9.17   \n",
      "4  [Action,  Comedy,  Historical,  Parody,  Samur...     TV       51    9.16   \n",
      "\n",
      "   members                                             genres  \\\n",
      "0   200630          [Drama,  Romance,  School,  Supernatural]   \n",
      "1   793665  [Action,  Adventure,  Drama,  Fantasy,  Magic,...   \n",
      "2   114262  [Action,  Comedy,  Historical,  Parody,  Samur...   \n",
      "3   673572                                [Sci-Fi,  Thriller]   \n",
      "4   151266  [Action,  Comedy,  Historical,  Parody,  Samur...   \n",
      "\n",
      "   rating_normalized  \n",
      "0           0.924370  \n",
      "1           0.911164  \n",
      "2           0.909964  \n",
      "3           0.900360  \n",
      "4           0.899160  \n"
     ]
    }
   ],
   "source": [
    "print(df.head())"
   ]
  },
  {
   "cell_type": "markdown",
   "id": "e504107d-37cc-4513-a5e0-ead5119e4637",
   "metadata": {},
   "source": [
    "**Recommendation System**                            "
   ]
  },
  {
   "cell_type": "code",
   "execution_count": 19,
   "id": "4b58cd85-19de-46f0-9520-5ce0e84444d3",
   "metadata": {},
   "outputs": [
    {
     "name": "stdout",
     "output_type": "stream",
     "text": [
      "615                                    Naruto: Shippuuden\n",
      "1103    Boruto: Naruto the Movie - Naruto ga Hokage ni...\n",
      "486                              Boruto: Naruto the Movie\n",
      "1343                                          Naruto x UT\n",
      "1472          Naruto: Shippuuden Movie 4 - The Lost Tower\n",
      "Name: name, dtype: object\n"
     ]
    }
   ],
   "source": [
    "from sklearn.metrics.pairwise import cosine_similarity\n",
    "\n",
    "def recommend_anime(target_anime, features, df, top_n=5):\n",
    "    #Calculate cosine similarity between the target anime and all other anime\n",
    "    target_index = df[df['name'] == target_anime].index[0]\n",
    "    similarity_scores = cosine_similarity(features.iloc[target_index:target_index+1], features).flatten()\n",
    "    #Get the indices of the most similar anime\n",
    "    similar_indices = similarity_scores.argsort()[-top_n-1:-1][::-1]\n",
    "    #Return the title of the most similar anime\n",
    "    return df['name'].iloc[similar_indices]\n",
    "#Example usage:\n",
    "recommendations = recommend_anime('Naruto', features,df,top_n=5)\n",
    "print(recommendations)"
   ]
  },
  {
   "cell_type": "markdown",
   "id": "13e53d16-8e2b-437f-bce5-6a3baf725bb1",
   "metadata": {},
   "source": [
    "**Observation**"
   ]
  },
  {
   "cell_type": "markdown",
   "id": "08f9436b-64e1-4d4f-90ed-5fcc3904346d",
   "metadata": {},
   "source": [
    "Defined a function 'recommend_anime' that uses cosine similarity to recommend similar anime based on a given anime name.\n",
    "**Cosine Similarity Calculation**:The function calculates the cosine similarity between the feature vector of the target anime and all other anime in the dataset. The similarity score is used to determine how close the other anime is to the target anime in terms of features like genre and rating.\n",
    "**Recommendation Process**:The function sorts these similarity scores and retrieves the indices of the most similar anime. it returns the names of these similar anime as recommendations.\n",
    "**Example**: tested with \"Naruto\" as the target anime and it returns a list of five anime that are most similar to \"Naruto\" based on the feature matrix."
   ]
  },
  {
   "cell_type": "markdown",
   "id": "63cf1925-bf92-433f-9125-eef50d370517",
   "metadata": {},
   "source": [
    "**Evaluation**"
   ]
  },
  {
   "cell_type": "code",
   "execution_count": 37,
   "id": "ab31b2cd-f8b4-4d0e-ab2c-4c0fd9a01524",
   "metadata": {},
   "outputs": [
    {
     "name": "stdout",
     "output_type": "stream",
     "text": [
      "Precision: 0.82\n",
      "Recall: 0.85\n",
      "F1-Score: 0.83\n"
     ]
    }
   ],
   "source": [
    "from sklearn.model_selection import train_test_split\n",
    "from sklearn.metrics import precision_score, recall_score, f1_score\n",
    "\n",
    "#Split the dataset\n",
    "X_train, X_test, y_train, y_test = train_test_split(features, df['rating'], test_size=0.2, random_state=42)\n",
    "\n",
    "from sklearn.metrics import precision_score, recall_score,f1_score\n",
    "rating_threshold = 7\n",
    "y_test_binary = (y_test >= rating_threshold).astype(int)\n",
    "\n",
    "y_pred_binary = []\n",
    "for i, anime in X_test.iterrows():\n",
    "    recommendations = recommend_anime(df.loc[i, 'name'], features, df, top_n=5)\n",
    "    #Assuming the first recommendation is the most relevant\n",
    "    if recommendations.iloc[0] in df[df['rating'] >= rating_threshold]['name'].values:\n",
    "        y_pred_binary.append(1)\n",
    "    else:\n",
    "        y_pred_binary.append(0)\n",
    "#Calculating precision, recall, and F1-Score\n",
    "precision = precision_score(y_test_binary, y_pred_binary)\n",
    "recall = recall_score(y_test_binary, y_pred_binary)\n",
    "f1 = f1_score(y_test_binary, y_pred_binary)\n",
    "\n",
    "print(f\"Precision: {precision:.2f}\")\n",
    "print(f\"Recall: {recall:.2f}\")\n",
    "print(f\"F1-Score: {f1:.2f}\")"
   ]
  },
  {
   "cell_type": "markdown",
   "id": "26cf2774-f5a9-4623-8f7c-fc40d10a703d",
   "metadata": {},
   "source": [
    "**Observation**"
   ]
  },
  {
   "cell_type": "markdown",
   "id": "1d74569e-5249-4cd3-9ebb-8a9a1dd78c35",
   "metadata": {},
   "source": [
    "**Data splitting**: The dataset was split into training and testing sets using an 80-20 split ratio. The 'train_test_split' function from scikit-learn was used for this purpose.\n",
    "**Threshold for Relevance**: A rating threshold of 7 was chosen to determine the relevance of anime.\n",
    "Ratings equal to or above this threshold are considered relevant.\n",
    "**Binary Relevance Labels**:The ratings in the test set are converted into binary relevance labels. If the rating was greater than or equal to the threshold it was marked as '1' or it was marked as '0' means relevant and not relevant\n",
    "\n",
    "**Generating Recommendations**: For each anime in the test set recommendations were generated using the 'recommend_anime' function. This function calculates the cosine similarity between the target anime and all others to find the most similar anime.\n",
    "\n",
    "**Evaluating Recommendations**: To evaluate the recommendation system the relevance of the top recommendation for each test anime will be checked. If the top recommendation was among the relevant anime it was considered a correct prediction otherwise a wrong prediction.\n",
    "\n",
    "**Performance Metrics**:Precision, recall, and F1-score were calculated to assess the performance of the recommendation system these metrics provide insights into the accuracy and completeness of the recommendations.\n",
    "Precision: It measures the proportion of relevant recommendations among all actual relevant items.\n",
    "\n",
    "Recall: It measures the proportion of relevant recommendations among all actual relevant items.\n",
    "\n",
    "F1-Score: it is the harmonic mean of precision and recall providing a single metric to evaluate the overall performance.\n",
    "\n"
   ]
  },
  {
   "cell_type": "markdown",
   "id": "64d646df-a7d8-455e-9cce-04146e69627b",
   "metadata": {},
   "source": [
    "**Interview Questions**"
   ]
  },
  {
   "cell_type": "markdown",
   "id": "f0454827-f0e5-41ef-869d-73f4e97fa176",
   "metadata": {},
   "source": [
    "1. Difference between user-based and item-based collaborative filtering"
   ]
  },
  {
   "cell_type": "markdown",
   "id": "0e39357d-6466-4ceb-9464-566c8869bc4c",
   "metadata": {},
   "source": [
    "**User-based collaborative filtering**: Recommend items based on similarities between users. If two users have similar tastes the items liked by one user can be recommended to the other\n",
    "\n",
    "**item-based collaborative filtering**: Recommends items based on similar items. If two items are similar and a user likes one of them the other can be recommended"
   ]
  },
  {
   "cell_type": "markdown",
   "id": "d79a3d8b-8b35-451f-9151-3b1f39e8b60c",
   "metadata": {},
   "source": [
    "2. Collaborative filtering"
   ]
  },
  {
   "cell_type": "markdown",
   "id": "20947024-738b-4372-abb6-73870e8421b1",
   "metadata": {},
   "source": [
    "Collaborative filterinmg is a recommendation technique that identifies user-item relationships by analyzing user interactions.It works by finding similar users or similar items and making recommendations based on those similarities"
   ]
  }
 ],
 "metadata": {
  "kernelspec": {
   "display_name": "Python 3 (ipykernel)",
   "language": "python",
   "name": "python3"
  },
  "language_info": {
   "codemirror_mode": {
    "name": "ipython",
    "version": 3
   },
   "file_extension": ".py",
   "mimetype": "text/x-python",
   "name": "python",
   "nbconvert_exporter": "python",
   "pygments_lexer": "ipython3",
   "version": "3.11.7"
  }
 },
 "nbformat": 4,
 "nbformat_minor": 5
}
